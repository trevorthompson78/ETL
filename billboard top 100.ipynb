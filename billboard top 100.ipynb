{
 "cells": [
  {
   "cell_type": "code",
   "execution_count": 5,
   "metadata": {},
   "outputs": [],
   "source": [
    "import pandas as pd"
   ]
  },
  {
   "cell_type": "code",
   "execution_count": null,
   "metadata": {},
   "outputs": [],
   "source": []
  },
  {
   "cell_type": "code",
   "execution_count": 6,
   "metadata": {},
   "outputs": [],
   "source": [
    "url = 'https://en.wikipedia.org/wiki/Billboard_Year-End_Hot_100_singles_of_2019'"
   ]
  },
  {
   "cell_type": "code",
   "execution_count": 7,
   "metadata": {},
   "outputs": [
    {
     "data": {
      "text/plain": [
       "<function pandas.io.html.read_html(io, match='.+', flavor=None, header=None, index_col=None, skiprows=None, attrs=None, parse_dates=False, thousands=',', encoding=None, decimal='.', converters=None, na_values=None, keep_default_na=True, displayed_only=True)>"
      ]
     },
     "execution_count": 7,
     "metadata": {},
     "output_type": "execute_result"
    }
   ],
   "source": [
    "pd.read_html"
   ]
  },
  {
   "cell_type": "code",
   "execution_count": 8,
   "metadata": {},
   "outputs": [
    {
     "data": {
      "text/plain": [
       "[    No.            Title                            Artist(s)\n",
       " 0     1  \"Old Town Road\"  Lil Nas X featuring Billy Ray Cyrus\n",
       " 1     2      \"Sunflower\"             Post Malone and Swae Lee\n",
       " 2     3     \"Without Me\"                               Halsey\n",
       " 3     4        \"Bad Guy\"                        Billie Eilish\n",
       " 4     5            \"Wow\"                          Post Malone\n",
       " ..  ...              ...                                  ...\n",
       " 95   96    \"Eyes on You\"                           Chase Rice\n",
       " 96   97  \"All to Myself\"                           Dan + Shay\n",
       " 97   98      \"Boyfriend\"       Ariana Grande and Social House\n",
       " 98   99   \"Walk Me Home\"                                 Pink\n",
       " 99  100        \"Robbery\"                           Juice Wrld\n",
       " \n",
       " [100 rows x 3 columns],\n",
       "   vteBillboard Year-End Hot 100 singles  \\\n",
       " 0                             1940–1949   \n",
       " 1                             1950–1969   \n",
       " 2                             1970–1989   \n",
       " 3                             1990–2009   \n",
       " 4                          2010–present   \n",
       " \n",
       "              vteBillboard Year-End Hot 100 singles.1  \n",
       " 0                                1946 1947 1948 1949  \n",
       " 1  1950 1951 1952 1953 1954 1955 1956 1957 1958 1...  \n",
       " 2  1970 1971 1972 1973 1974 1975 1976 1977 1978 1...  \n",
       " 3  1990 1991 1992 1993 1994 1995 1996 1997 1998 1...  \n",
       " 4  2010 2011 2012 2013 2014 2015 2016 2017 2018 2019  ]"
      ]
     },
     "execution_count": 8,
     "metadata": {},
     "output_type": "execute_result"
    }
   ],
   "source": [
    "tables = pd.read_html(url)\n",
    "tables"
   ]
  },
  {
   "cell_type": "code",
   "execution_count": null,
   "metadata": {},
   "outputs": [],
   "source": []
  },
  {
   "cell_type": "code",
   "execution_count": null,
   "metadata": {},
   "outputs": [],
   "source": []
  }
 ],
 "metadata": {
  "kernelspec": {
   "display_name": "Python [conda env:pythondata] *",
   "language": "python",
   "name": "conda-env-pythondata-py"
  },
  "language_info": {
   "codemirror_mode": {
    "name": "ipython",
    "version": 3
   },
   "file_extension": ".py",
   "mimetype": "text/x-python",
   "name": "python",
   "nbconvert_exporter": "python",
   "pygments_lexer": "ipython3",
   "version": "3.7.6"
  }
 },
 "nbformat": 4,
 "nbformat_minor": 4
}
